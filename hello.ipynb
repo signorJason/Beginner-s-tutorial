{
 "cells": [
  {
   "cell_type": "code",
   "execution_count": null,
   "id": "82f1ec60",
   "metadata": {
    "vscode": {
     "languageId": "plaintext"
    }
   },
   "outputs": [],
   "source": [
    "print(\"hello world\")\n"
   ]
  }
 ],
 "metadata": {
  "language_info": {
   "name": "python"
  }
 },
 "nbformat": 4,
 "nbformat_minor": 5
}
